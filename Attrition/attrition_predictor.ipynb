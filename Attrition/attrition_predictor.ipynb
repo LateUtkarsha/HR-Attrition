{
 "cells": [
  {
   "cell_type": "code",
   "execution_count": 20,
   "metadata": {},
   "outputs": [],
   "source": [
    "import pandas as pd\n",
    "from sklearn.model_selection import train_test_split\n",
    "from sklearn.ensemble import RandomForestClassifier\n",
    "from sklearn.metrics import accuracy_score\n",
    "import joblib"
   ]
  },
  {
   "cell_type": "code",
   "execution_count": 21,
   "metadata": {},
   "outputs": [],
   "source": [
    "# Load your dataset\n",
    "def load_data(file_path):\n",
    "    data = pd.read_csv(file_path)\n",
    "    print(\"Columns in the dataset:\", data.columns)  # Print column names to check\n",
    "    data.columns = data.columns.str.strip()  # Remove leading/trailing spaces\n",
    "    return data"
   ]
  },
  {
   "cell_type": "code",
   "execution_count": 23,
   "metadata": {},
   "outputs": [],
   "source": [
    "# Preprocess the data\n",
    "def preprocess_data(data):\n",
    "    # Define features and target variable\n",
    "    X = data.drop('Attrition', axis=1)  # Features: all columns except 'Attrition'\n",
    "    y = data['Attrition']  # Target variable: 'Attrition'\n",
    "    \n",
    "    # Convert categorical variables to numerical\n",
    "    X = pd.get_dummies(X, drop_first=True)  # Apply one-hot encoding to features(converts categorical variables (like \"Gender\", \"Job Role\") into numerical format )\n",
    "    \n",
    "    return X, y"
   ]
  },
  {
   "cell_type": "code",
   "execution_count": 25,
   "metadata": {},
   "outputs": [],
   "source": [
    "# Train the model\n",
    "def train_model(X, y):\n",
    "\n",
    "    #Random Forests create multiple decision trees by randomly selecting subsets of the data and features, \n",
    "    # and setting a fixed random_state ensures that the same trees are generated every time( random_state = 42)\n",
    "    X_train, X_test, y_train, y_test = train_test_split(X, y, test_size=0.2, random_state=42)  # test_size = 0.2 meaning test data 20 % \n",
    "    \n",
    "    model = RandomForestClassifier(random_state=42)\n",
    "    model.fit(X_train, y_train)\n",
    "    \n",
    "    # Evaluate the model\n",
    "    predictions = model.predict(X_test)\n",
    "    accuracy = accuracy_score(y_test, predictions)\n",
    "    print(f'Model Accuracy: {accuracy:.2f}')\n",
    "    \n",
    "    return model"
   ]
  },
  {
   "cell_type": "code",
   "execution_count": 26,
   "metadata": {},
   "outputs": [],
   "source": [
    "# Save the model\n",
    "def save_model(model, filename):\n",
    "    joblib.dump(model, filename)"
   ]
  },
  {
   "cell_type": "code",
   "execution_count": 27,
   "metadata": {},
   "outputs": [
    {
     "name": "stdout",
     "output_type": "stream",
     "text": [
      "Columns in the dataset: Index(['Attrition', 'Business Travel', 'Department', 'Education Field',\n",
      "       'emp no', 'Employee Number', 'Gender', 'Job Role', 'Marital Status',\n",
      "       'Over Time', 'Training Times Last Year', 'Age', 'Distance From Home',\n",
      "       'Education', 'Environment Satisfaction', 'Job Satisfaction',\n",
      "       'Monthly Income', 'Num Companies Worked', 'Percent Salary Hike',\n",
      "       'Relationship Satisfaction', 'Total Working Years', 'Years At Company',\n",
      "       'Years In Current Role', 'Years With Curr Manager'],\n",
      "      dtype='object')\n",
      "Model Accuracy: 0.87\n"
     ]
    }
   ],
   "source": [
    "# Main function to execute the training\n",
    "if __name__ == '__main__':\n",
    "    # Load and preprocess data\n",
    "    data = load_data('dataset.csv')  # Replace with your dataset path\n",
    "    X, y = preprocess_data(data)\n",
    "    \n",
    "    # Train and save the model\n",
    "    model = train_model(X, y)\n",
    "    save_model(model, 'attrition_model.pkl')"
   ]
  }
 ],
 "metadata": {
  "kernelspec": {
   "display_name": "Python 3",
   "language": "python",
   "name": "python3"
  },
  "language_info": {
   "codemirror_mode": {
    "name": "ipython",
    "version": 3
   },
   "file_extension": ".py",
   "mimetype": "text/x-python",
   "name": "python",
   "nbconvert_exporter": "python",
   "pygments_lexer": "ipython3",
   "version": "3.12.4"
  }
 },
 "nbformat": 4,
 "nbformat_minor": 2
}
